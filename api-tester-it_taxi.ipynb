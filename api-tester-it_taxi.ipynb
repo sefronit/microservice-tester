{
 "cells": [
  {
   "cell_type": "code",
   "execution_count": 1,
   "outputs": [],
   "source": [
    "from dtos.dtos import *\n"
   ],
   "metadata": {
    "collapsed": false,
    "ExecuteTime": {
     "end_time": "2024-05-28T12:36:38.429607200Z",
     "start_time": "2024-05-28T12:36:38.338830100Z"
    }
   },
   "id": "initial_id"
  },
  {
   "cell_type": "code",
   "execution_count": 2,
   "outputs": [],
   "source": [
    "baseUrl:str = \"https://c9c1-213-233-41-138.ngrok-free.app/maas\"\n",
    "baseHeader = {\"user\" : \"{'_id' : '60f527b78c90cf6b8bf450eb', 'client_id' : '60f1b8e0203c9b20acb9ad26'}\", \n",
    "              \"Content-Type\" : \"application/json\"}\n",
    "main_date = \"2024-05-28T15:00:36.459Z\";\n",
    "provider_id = \"0b13f2d6-d5cb-48aa-aeed-ed3a5a7f1da6\"\n"
   ],
   "metadata": {
    "collapsed": false,
    "ExecuteTime": {
     "end_time": "2024-05-28T12:36:38.634168700Z",
     "start_time": "2024-05-28T12:36:38.627159300Z"
    }
   },
   "id": "d822a7b2ae8143fb"
  },
  {
   "cell_type": "markdown",
   "source": [
    "<h1> Simulation procedure handled by MaaS</h1>"
   ],
   "metadata": {
    "collapsed": false
   },
   "id": "8d3370443f077c4a"
  },
  {
   "cell_type": "code",
   "execution_count": 9,
   "outputs": [],
   "source": [
    "# Create instances of nested schemas\n",
    "departure_location = LocationDTO(latitude=41.93290465858364, longitude=12.512222137982262)\n",
    "destination_location = LocationDTO(latitude=41.831126961756205, longitude=12.463424618864073)\n",
    "\n",
    "estimation_request_obj = EstimationRequestDTO(\n",
    "    departure=departure_location,\n",
    "    destination=destination_location,\n",
    "    date=main_date,\n",
    "    passengers=1\n",
    ")\n",
    "\n",
    "# Creating an AddressDTO object for the departure and destination\n",
    "departure_address = AddressDTO(\n",
    "        latitude=estimation_request_obj.departure.latitude,\n",
    "        longitude=estimation_request_obj.departure.longitude,\n",
    "        full_address=\"Via Montebuono, 5, 00199 Roma RM\",\n",
    "        country=\"Italy\",\n",
    "        province=\"Rome\",\n",
    "        postal_code=\"00199\",\n",
    "        street_name=\"Via Montebuono\",\n",
    "        building_number=\"5\",\n",
    "        town=\"Rome\",\n",
    "        poi=False,\n",
    "        google_place_id=\"ChIJxWbI_UVhLxMRd32pYn4aoRI\"\n",
    "    )\n",
    "\n",
    "destination_address = AddressDTO(\n",
    "        latitude=estimation_request_obj.departure.latitude,\n",
    "        longitude=estimation_request_obj.departure.longitude,\n",
    "        full_address=\"Viale America, 20, 00144 Roma RM\",\n",
    "        country=\"Italy\",\n",
    "        province=\"Rome\",\n",
    "        postal_code=\"00199\",\n",
    "        street_name=\"Viale America\",\n",
    "        building_number=\"20\",\n",
    "        town=\"Rome\",\n",
    "        poi=False,\n",
    "        google_place_id=\"ChIJ9-e7uB-LJRMRY02bTXLoSZ4\"\n",
    "    )\n",
    "\n",
    "# Creating an ExtraDTO object\n",
    "extra_data = ExtraDTO(\n",
    "    bags=2,\n",
    "    pos=True,\n",
    "    low_car=True\n",
    ")\n",
    "\n",
    "# Creating a NewRequestBodyDTO object\n",
    "simulationRequestDto = SimulationRequestDTO(\n",
    "    procedure=\"taxi_not_found\",\n",
    "    departure=departure_address,\n",
    "    destination=destination_address,\n",
    "    passengers=3,\n",
    "    extra=extra_data,\n",
    "    date=\"2024-05-10T13:53:38.892Z\",\n",
    "    payment_method=\"paycheck\",\n",
    "    customer_name=\"John Doe\",\n",
    "    fiscal_code=\"DOEJHN80A01H123X\",\n",
    "    timezone=\"Europe/Rome\"\n",
    ")\n",
    "\n",
    "\n",
    "\n",
    "requestResponseJson = req.request(\n",
    "    \"POST\",\n",
    "    baseUrl + \"/taxi/simulate/it_taxi\",\n",
    "    headers=baseHeader,\n",
    "    data=SimulationRequestDTOSchema().dumps(simulationRequestDto)\n",
    ")"
   ],
   "metadata": {
    "collapsed": false,
    "ExecuteTime": {
     "end_time": "2024-05-28T12:32:40.164396100Z",
     "start_time": "2024-05-28T12:32:31.082105900Z"
    }
   },
   "id": "204247067c98b87"
  },
  {
   "cell_type": "code",
   "execution_count": 9,
   "outputs": [],
   "source": [],
   "metadata": {
    "collapsed": false,
    "ExecuteTime": {
     "end_time": "2024-05-28T12:33:09.479926100Z",
     "start_time": "2024-05-28T12:33:09.469408Z"
    }
   },
   "id": "d6399c5a0556281d"
  },
  {
   "cell_type": "markdown",
   "source": [
    "<h1> Get Estimate </h1>"
   ],
   "metadata": {
    "collapsed": false
   },
   "id": "436471ed87ec3b0"
  },
  {
   "cell_type": "code",
   "execution_count": 3,
   "outputs": [],
   "source": [
    "# Create instances of nested schemas\n",
    "departure_location = LocationDTO(latitude=41.93290465858364, longitude=12.512222137982262)\n",
    "destination_location = LocationDTO(latitude=41.831126961756205, longitude=12.463424618864073)\n",
    "\n",
    "# Initialize EstimationRequestDTO using nested schemas\n",
    "estimation_request_obj = EstimationRequestDTO(\n",
    "    departure=departure_location,\n",
    "    destination=destination_location,\n",
    "    date=main_date,\n",
    "    passengers=1\n",
    ")\n",
    "\n",
    "\n",
    "estimateJson = req.request(\n",
    "    \"POST\",\n",
    "    baseUrl + \"/taxi/estimates\",\n",
    "    headers=baseHeader,\n",
    "    data=EstimationRequestDTOSchema().dumps(estimation_request_obj)\n",
    ")\n",
    "\n",
    "estimate = EstimateResponseDTOSchema().loads(estimateJson.text, many=True)[0]\n"
   ],
   "metadata": {
    "collapsed": false,
    "ExecuteTime": {
     "end_time": "2024-05-28T12:36:46.777152700Z",
     "start_time": "2024-05-28T12:36:45.286375Z"
    }
   },
   "id": "e7240d3fc6ba2265"
  },
  {
   "cell_type": "code",
   "execution_count": 6,
   "outputs": [
    {
     "data": {
      "text/plain": "EstimateResponseDTO(estimate_id='7641393f-e1e3-4d6a-9958-d0fdef8b4328', provider_id='0b13f2d6-d5cb-48aa-aeed-ed3a5a7f1da6', provider_code='it_taxi', provider_name='itTaxi', provider_logo='https://cdn.mobilitycompany.it/images/maas/provider/ittaxi.png', eta=None, price=3100.0, price_range_min=3100.0, price_range_max=3100.0, terms_accepted=False, terms_and_conditions=None, cancellation_policies=None, pickups=None, vehicles=[VehicleDTO(id='83a7c956-5cba-4648-b198-7dac04e63832', type='Standard', passengers=4, baggages=2, price_variation=0.0, final_price=3100.0)], verify_phone=False, passengers=4, vehicle_id='83a7c956-5cba-4648-b198-7dac04e63832', vehicle_type='Standard')"
     },
     "execution_count": 6,
     "metadata": {},
     "output_type": "execute_result"
    }
   ],
   "source": [
    "estimate"
   ],
   "metadata": {
    "collapsed": false,
    "ExecuteTime": {
     "end_time": "2024-05-28T12:42:12.061850200Z",
     "start_time": "2024-05-28T12:42:12.053452900Z"
    }
   },
   "id": "6bc7de6d359599e4"
  },
  {
   "cell_type": "markdown",
   "source": [
    "<h1> Request ride </h1>"
   ],
   "metadata": {
    "collapsed": false
   },
   "id": "3afb4b6c9f03bf71"
  },
  {
   "cell_type": "code",
   "execution_count": 4,
   "outputs": [],
   "source": [
    "\n",
    "requestBody = ReservationRequestDTO(\n",
    "    vehicle_id=estimate.vehicle_id,\n",
    "    passengers=1,      \n",
    "    departure=AddressDTO(\n",
    "        latitude=estimation_request_obj.departure.latitude,\n",
    "        longitude=estimation_request_obj.departure.longitude,\n",
    "        full_address=\"Via Montebuono, 5, 00199 Roma RM\",\n",
    "        country=\"Italy\",\n",
    "        province=\"Rome\",\n",
    "        postal_code=\"00199\",\n",
    "        street_name=\"Via Montebuono\",\n",
    "        building_number=\"5\",\n",
    "        town=\"Rome\",\n",
    "        poi=False,\n",
    "        google_place_id=\"ChIJxWbI_UVhLxMRd32pYn4aoRI\"\n",
    "    ),\n",
    "    destination=AddressDTO(\n",
    "        latitude=estimation_request_obj.departure.latitude,\n",
    "        longitude=estimation_request_obj.departure.longitude,\n",
    "        full_address=\"Viale America, 20, 00144 Roma RM\",\n",
    "        country=\"Italy\",\n",
    "        province=\"Rome\",\n",
    "        postal_code=\"00199\",\n",
    "        street_name=\"Viale America\",\n",
    "        building_number=\"20\",\n",
    "        town=\"Rome\",\n",
    "        poi=False,\n",
    "        google_place_id=\"ChIJ9-e7uB-LJRMRY02bTXLoSZ4\"\n",
    "    ),\n",
    "    date=main_date,\n",
    "    estimate_id=estimate.estimate_id,\n",
    "    surname=\"Huseynov\",\n",
    "    name=\"Arif\",\n",
    "    phone=\"+395000000\",\n",
    "    customer_name=\"Arif Huseynov\",\n",
    "    extra=ExtraDTO(\n",
    "        low_car=False,\n",
    "        pos=False,\n",
    "        bags=2\n",
    "    ),\n",
    "    fiscal_code=\"HSYRFA91H25Z253D\",\n",
    "    provider_id=\"0b13f2d6-d5cb-48aa-aeed-ed3a5a7f1da6\",\n",
    "    payment_method=\"paycheck\",\n",
    "    payment_in_app=True,\n",
    "    timezone=\"\",\n",
    "    external_id=\"\"\n",
    ")\n",
    "\n",
    "\n",
    "requestResponseJson = req.request(\n",
    "    \"POST\",\n",
    "    baseUrl + \"/taxi/ride\",\n",
    "    headers=baseHeader,\n",
    "    data=ReservationRequestDTOSchema().dumps(requestBody)\n",
    ")\n",
    "\n",
    "reservationResponse : TaxiRequestResponseDTO = TaxiRequestResponseDTOSchema().loads(requestResponseJson.text, many=False)"
   ],
   "metadata": {
    "collapsed": false,
    "ExecuteTime": {
     "end_time": "2024-05-28T12:37:05.425694200Z",
     "start_time": "2024-05-28T12:37:01.032680300Z"
    }
   },
   "id": "2a24d3bb1fce98bb"
  },
  {
   "cell_type": "code",
   "execution_count": 5,
   "outputs": [
    {
     "data": {
      "text/plain": "TaxiRequestResponseDTO(id='b18b6aa7-e427-46e5-9a4c-a5752df55cac', external_id='5590f861-cb9a-4eae-b3f8-d67d6caf88af', state='pending', ride_status='searching', date='2024-05-28T15:00:36.459+00:00', departure=AddressDTO(latitude=41.93290465858364, longitude=12.512222137982262, street_name='Via Montebuono', building_number='5', town='Rome', province='Rome', country='Italy', postal_code='00199', poi=False, full_address=None, google_place_id=None), destination=AddressDTO(latitude=41.93290465858364, longitude=12.512222137982262, street_name='Viale America', building_number='20', town='Rome', province='Rome', country='Italy', postal_code='00199', poi=False, full_address=None, google_place_id=None), passengers=1, driver_position=None, eta=None, eta_date=None, cancellation_reason=None, cancellation_rules=CancellationRules(penalty_amount=None, max_date=None), noshow_rules=NoShowRules(penalty_amount=None), payment=None, provider_id='0b13f2d6-d5cb-48aa-aeed-ed3a5a7f1da6', extra={'bags': 2, 'pos': False, 'low_car': False}, provider_name='itTaxi', provider_logo='https://cdn.mobilitycompany.it/images/maas/provider/ittaxi.png', client_secret=None, arrived_timestamp=None, receipt_url=None, plate=None, tag=None, phone='', agency=None, license=None, notes=None, stripe_payment_data=StripePaymentData(client_secret=None, customer_id=None, ephemeral_key=None), booking_id='8ef1df47-b498-4ae8-9563-1cd7c9baf932')"
     },
     "execution_count": 5,
     "metadata": {},
     "output_type": "execute_result"
    }
   ],
   "source": [
    "reservationResponse"
   ],
   "metadata": {
    "collapsed": false,
    "ExecuteTime": {
     "end_time": "2024-05-28T12:37:09.262042100Z",
     "start_time": "2024-05-28T12:37:09.234198Z"
    }
   },
   "id": "cf1c66688f0c5bfa"
  },
  {
   "cell_type": "code",
   "execution_count": 175,
   "outputs": [
    {
     "data": {
      "text/plain": "'searching'"
     },
     "execution_count": 175,
     "metadata": {},
     "output_type": "execute_result"
    }
   ],
   "source": [],
   "metadata": {
    "collapsed": false,
    "ExecuteTime": {
     "start_time": "2024-05-07T13:28:29.634081600Z"
    }
   },
   "id": "189638676c347052"
  },
  {
   "cell_type": "code",
   "execution_count": 161,
   "outputs": [],
   "source": [],
   "metadata": {
    "collapsed": false,
    "ExecuteTime": {
     "start_time": "2024-05-07T12:10:34.506327900Z"
    }
   },
   "id": "1145fca253f0ed70"
  },
  {
   "cell_type": "markdown",
   "source": [
    "<h1> Webhook </h1>"
   ],
   "metadata": {
    "collapsed": false
   },
   "id": "d531bf5c493bd2ae"
  },
  {
   "cell_type": "code",
   "execution_count": 176,
   "outputs": [],
   "source": [
    "# authorize\n",
    "#########################################################################\n",
    "itTaxiUrl = \" https://sandbox.api.ittaxi.it\"\n",
    "\n",
    "username = \"a5bc5430-4f60-40f7-94b8-82cf81c575c9\"\n",
    "password = \"OqLJPzjMvx25hqvtJRtGWuJPOxoEfnUzqalWTMW\"\n",
    "response = req.request(\"GET\",\n",
    "                    url=itTaxiUrl + \"/v1/auth/login\",\n",
    "                    headers= {\"Content-Type\" : \"application/json\", \"Accept\" : \"application/json\"},\n",
    "                    auth=(username, password))\n",
    "token = \"Bearer \" + js.loads(response.text)[\"token\"]\n",
    "\n",
    "#########################################################################\n",
    "\n",
    "\n",
    "def simulate(method:str, endpoint:str):\n",
    "    return req.request(\n",
    "        method,\n",
    "        itTaxiUrl + endpoint,\n",
    "        headers={\"Content-Type\" : \"application/json\", \"Accept\" : \"application/json\", \"Authorization\" : token},\n",
    "        data = EventSchema().dumps(eventBody))"
   ],
   "metadata": {
    "collapsed": false,
    "ExecuteTime": {
     "start_time": "2024-05-07T13:28:56.686792700Z"
    }
   },
   "id": "653050d60b024698"
  },
  {
   "cell_type": "markdown",
   "source": [
    "<h3> TRIP_COMPLETED </h3>"
   ],
   "metadata": {
    "collapsed": false
   },
   "id": "4dcdb2111fb9ead"
  },
  {
   "cell_type": "code",
   "execution_count": 163,
   "outputs": [
    {
     "data": {
      "text/plain": "'{\"error_code\":\"0304\",\"message\":\"Resource not found\",\"information_link\":\"https:\\\\/\\\\/partners.ittaxi.it\\\\/api\\\\/docs\\\\/v1#error-list_0304\",\"details\":{\"resource\":\"TaxiTrip\",\"reason\":\"TaxiTrip with requested ID does not exist\",\"id\":[\"198c09b2-cc70-4f85-88a7-33decd405056\"]},\"debug_id\":\"3769f7a5-43aa-4aa7-ae14-fd2a7aa73861\"}'"
     },
     "execution_count": 163,
     "metadata": {},
     "output_type": "execute_result"
    }
   ],
   "source": [
    "eventBody : Event = Event(\n",
    "    event = \"TRIP_COMPLETED\",\n",
    "    delay = 0\n",
    ")\n",
    "\n",
    "\n",
    "webHookResponse = simulate(\"POST\", f\"/v1/simulate/trip/{reservationResponse.external_id}\")\n",
    "\n",
    "webHookResponse.text"
   ],
   "metadata": {
    "collapsed": false,
    "ExecuteTime": {
     "start_time": "2024-05-07T12:10:37.350311100Z"
    }
   },
   "id": "f70d9854f3a0ea5a"
  },
  {
   "cell_type": "markdown",
   "source": [
    "<h3> AMOUNT_CONFIRMED </h3>"
   ],
   "metadata": {
    "collapsed": false
   },
   "id": "e138665eb7e5d2bf"
  },
  {
   "cell_type": "code",
   "execution_count": 140,
   "outputs": [
    {
     "data": {
      "text/plain": "'{\"error_code\":\"0303\",\"message\":\"Validation failed\",\"information_link\":\"https:\\\\/\\\\/partners.ittaxi.it\\\\/api\\\\/docs\\\\/v1#error-list_0303\",\"details\":{\"event\":[\"The selected event is invalid.\"]},\"debug_id\":\"735a2271-08f4-49b5-9d64-8267214cbbd0\"}'"
     },
     "execution_count": 140,
     "metadata": {},
     "output_type": "execute_result"
    }
   ],
   "source": [
    "\n",
    "eventBody.event = \"AMOUNT_CONFIRMED\"\n",
    "\n",
    "webHookResponse = simulate(\"POST\", f\"/v1/simulate/trip/{reservationResponse.external_id}\")\n",
    "\n",
    "webHookResponse.text"
   ],
   "metadata": {
    "collapsed": false,
    "ExecuteTime": {
     "start_time": "2024-05-07T11:40:46.817175Z"
    }
   },
   "id": "e0168570cbdf9105"
  },
  {
   "cell_type": "code",
   "execution_count": 140,
   "outputs": [],
   "source": [],
   "metadata": {
    "collapsed": false,
    "ExecuteTime": {
     "start_time": "2024-05-07T11:40:48.220547700Z"
    }
   },
   "id": "9d8dcd6c81ef9342"
  },
  {
   "cell_type": "code",
   "execution_count": 140,
   "outputs": [],
   "source": [],
   "metadata": {
    "collapsed": false,
    "ExecuteTime": {
     "start_time": "2024-05-07T11:40:49.419748700Z"
    }
   },
   "id": "41adb59820d9cac5"
  },
  {
   "cell_type": "markdown",
   "source": [
    "<h3> OnDemand Events </h3>"
   ],
   "metadata": {
    "collapsed": false
   },
   "id": "50537314c1c1dff"
  },
  {
   "cell_type": "markdown",
   "source": [
    "<h5> Searching </h5>"
   ],
   "metadata": {
    "collapsed": false
   },
   "id": "d50ac1ca6994db4c"
  },
  {
   "cell_type": "code",
   "execution_count": 177,
   "outputs": [
    {
     "data": {
      "text/plain": "''"
     },
     "execution_count": 177,
     "metadata": {},
     "output_type": "execute_result"
    }
   ],
   "source": [
    "eventBody.event = \"BOOKING_SEARCHING_TAXI\"\n",
    "\n",
    "webHookResponse = simulate(\"POST\", f\"/v1/simulate/booking/{reservationResponse.booking_id}\")\n",
    "webHookResponse.text"
   ],
   "metadata": {
    "collapsed": false,
    "ExecuteTime": {
     "start_time": "2024-05-07T13:29:03.559413Z"
    }
   },
   "id": "295773eac7c0363e"
  },
  {
   "cell_type": "code",
   "execution_count": 164,
   "outputs": [],
   "source": [],
   "metadata": {
    "collapsed": false,
    "ExecuteTime": {
     "start_time": "2024-05-07T12:14:52.427698100Z"
    }
   },
   "id": "f207818be9b3dc5c"
  },
  {
   "cell_type": "code",
   "execution_count": 179,
   "outputs": [
    {
     "data": {
      "text/plain": "''"
     },
     "execution_count": 179,
     "metadata": {},
     "output_type": "execute_result"
    }
   ],
   "source": [
    "eventBody.event = \"BOOKING_TAXI_FOUND\"\n",
    "\n",
    "webHookResponse = simulate(\"POST\", f\"/v1/simulate/booking/{reservationResponse.booking_id}\")\n",
    "webHookResponse.text"
   ],
   "metadata": {
    "collapsed": false,
    "ExecuteTime": {
     "start_time": "2024-05-07T13:29:49.623259800Z"
    }
   },
   "id": "1dfbba3af1764399"
  },
  {
   "cell_type": "code",
   "execution_count": null,
   "outputs": [],
   "source": [],
   "metadata": {
    "collapsed": false
   },
   "id": "b94b8a4d8754eca6"
  },
  {
   "cell_type": "code",
   "execution_count": 180,
   "outputs": [
    {
     "data": {
      "text/plain": "''"
     },
     "execution_count": 180,
     "metadata": {},
     "output_type": "execute_result"
    }
   ],
   "source": [
    "eventBody.event = \"BOOKING_COMPLETED\"\n",
    "\n",
    "webHookResponse = simulate(\"POST\", f\"/v1/simulate/booking/{reservationResponse.booking_id}\")\n",
    "webHookResponse.text"
   ],
   "metadata": {
    "collapsed": false,
    "ExecuteTime": {
     "start_time": "2024-05-07T13:30:15.874283900Z"
    }
   },
   "id": "61f4761d99f96a51"
  },
  {
   "cell_type": "code",
   "execution_count": null,
   "outputs": [],
   "source": [],
   "metadata": {
    "collapsed": false
   },
   "id": "17101f02729e9f4"
  },
  {
   "cell_type": "code",
   "execution_count": 166,
   "outputs": [
    {
     "data": {
      "text/plain": "''"
     },
     "execution_count": 166,
     "metadata": {},
     "output_type": "execute_result"
    }
   ],
   "source": [
    "eventBody.event = \"BOOKING_CUSTOMER_NOT_FOUND\"\n",
    "\n",
    "webHookResponse = simulate(\"POST\", f\"/v1/simulate/booking/{reservationResponse.booking_id}\")\n",
    "webHookResponse.text"
   ],
   "metadata": {
    "collapsed": false,
    "ExecuteTime": {
     "start_time": "2024-05-07T12:14:58.154552600Z"
    }
   },
   "id": "83bf21117618ced1"
  },
  {
   "cell_type": "code",
   "execution_count": 178,
   "outputs": [
    {
     "data": {
      "text/plain": "'d5b42c0a-0624-43c2-938c-ed35e95af054'"
     },
     "execution_count": 178,
     "metadata": {},
     "output_type": "execute_result"
    }
   ],
   "source": [
    "reservationResponse.id"
   ],
   "metadata": {
    "collapsed": false,
    "ExecuteTime": {
     "start_time": "2024-05-07T13:29:29.407344600Z"
    }
   },
   "id": "66e47b620cd919fe"
  },
  {
   "cell_type": "code",
   "execution_count": 6,
   "outputs": [],
   "source": [
    "eventBody.event = \"BOOKING_TAXI_NOT_FOUND\"\n",
    "\n",
    "webHookResponse = simulate(\"POST\", f\"/v1/simulate/booking/{reservationResponse.booking_id}\")"
   ],
   "metadata": {
    "collapsed": false,
    "ExecuteTime": {
     "start_time": "2024-05-06T16:07:55.454833400Z"
    }
   },
   "id": "40a9f553feeea442"
  },
  {
   "cell_type": "code",
   "execution_count": null,
   "outputs": [],
   "source": [],
   "metadata": {
    "collapsed": false
   },
   "id": "ff3b34ec453d35a0"
  },
  {
   "cell_type": "code",
   "execution_count": null,
   "outputs": [],
   "source": [],
   "metadata": {
    "collapsed": false
   },
   "id": "f679c28adbd0dd38"
  },
  {
   "cell_type": "code",
   "execution_count": 6,
   "outputs": [],
   "source": [
    "eventBody.event = \"ON_DEMAND_TRIP_CHARGED\"\n",
    "\n",
    "webHookResponse = simulate(\"POST\", f\"/v1/simulate/ondemand/{reservationResponse.external_id}\")\n",
    "\n",
    "webHookResponse.text"
   ],
   "metadata": {
    "collapsed": false,
    "ExecuteTime": {
     "start_time": "2024-05-06T16:07:55.600919500Z"
    }
   },
   "id": "ae1bbb64d5df1fb6"
  },
  {
   "cell_type": "code",
   "execution_count": 6,
   "outputs": [],
   "source": [],
   "metadata": {
    "collapsed": false,
    "ExecuteTime": {
     "start_time": "2024-05-06T16:07:55.743133Z"
    }
   },
   "id": "e399fec21ebc860b"
  },
  {
   "cell_type": "code",
   "execution_count": 19,
   "outputs": [],
   "source": [],
   "metadata": {
    "collapsed": false,
    "ExecuteTime": {
     "end_time": "2024-05-10T14:27:21.351072800Z",
     "start_time": "2024-05-10T14:27:21.336931Z"
    }
   },
   "id": "4d5f71b75126685f"
  },
  {
   "cell_type": "code",
   "execution_count": 6,
   "outputs": [],
   "source": [],
   "metadata": {
    "collapsed": false,
    "ExecuteTime": {
     "end_time": "2024-05-06T16:07:56.495649500Z",
     "start_time": "2024-05-06T16:07:56.466118400Z"
    }
   },
   "id": "8cf82037cf93a3c9"
  },
  {
   "cell_type": "code",
   "execution_count": 6,
   "outputs": [],
   "source": [],
   "metadata": {
    "collapsed": false,
    "ExecuteTime": {
     "end_time": "2024-05-06T16:07:56.636801100Z",
     "start_time": "2024-05-06T16:07:56.606370Z"
    }
   },
   "id": "d41e646789deeee"
  },
  {
   "cell_type": "code",
   "execution_count": 6,
   "outputs": [],
   "source": [],
   "metadata": {
    "collapsed": false,
    "ExecuteTime": {
     "end_time": "2024-05-06T16:07:56.824213900Z",
     "start_time": "2024-05-06T16:07:56.796165500Z"
    }
   },
   "id": "7c3fbe0fa2ea7736"
  },
  {
   "cell_type": "code",
   "execution_count": null,
   "outputs": [],
   "source": [],
   "metadata": {
    "collapsed": false
   },
   "id": "f1d1d8d1a18d0d44"
  }
 ],
 "metadata": {
  "kernelspec": {
   "display_name": "Python 3",
   "language": "python",
   "name": "python3"
  },
  "language_info": {
   "codemirror_mode": {
    "name": "ipython",
    "version": 2
   },
   "file_extension": ".py",
   "mimetype": "text/x-python",
   "name": "python",
   "nbconvert_exporter": "python",
   "pygments_lexer": "ipython2",
   "version": "2.7.6"
  }
 },
 "nbformat": 4,
 "nbformat_minor": 5
}
