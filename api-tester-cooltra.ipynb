{
 "cells": [
  {
   "cell_type": "code",
   "execution_count": 1,
   "id": "initial_id",
   "metadata": {
    "collapsed": true,
    "ExecuteTime": {
     "end_time": "2024-05-28T13:52:53.202237Z",
     "start_time": "2024-05-28T13:52:53.124432700Z"
    }
   },
   "outputs": [],
   "source": [
    "import requests as req\n",
    "import json as js\n",
    "from dtos.dtos import *"
   ]
  },
  {
   "cell_type": "markdown",
   "source": [
    "<h1> Check the auth of Cooltra <h1>"
   ],
   "metadata": {
    "collapsed": false
   },
   "id": "d0161a70bdbfb2d8"
  },
  {
   "cell_type": "code",
   "execution_count": 9,
   "outputs": [],
   "source": [
    "dataAuth = \"\"\"\n",
    "    {\n",
    "     \"grant_type\": \"client_credentials\",\n",
    "     \"client_id\": \"\",\n",
    "     \"client_secret\": \"\",\n",
    "     \"scope\": \"offers\"\n",
    "    }\n",
    "\"\"\"\n",
    "\n",
    "# authorize\n",
    "#########################################################################\n",
    "cooltraBaseUrl = \"https://maas.zeus-stage.cooltra.com\"\n",
    "\n",
    "response = req.request(\"POST\",\n",
    "                       url=cooltraBaseUrl + \"/oauth/token\",\n",
    "                       headers= {\"Content-Type\" : \"application/json\", \"Accept\" : \"application/json\"},\n",
    "                       data=dataAuth\n",
    "                       )\n",
    "\n",
    "result : CooltraAuthResponseDTO = CooltraAuthResponseDTOSchema().loads(response.text)\n",
    "token = \"Bearer \" + result.access_token\n",
    "\n",
    "#########################################################################\n"
   ],
   "metadata": {
    "collapsed": false,
    "ExecuteTime": {
     "end_time": "2024-05-28T09:24:25.564717500Z",
     "start_time": "2024-05-28T09:24:25.166278200Z"
    }
   },
   "id": "89a92d6186ca99f0"
  },
  {
   "cell_type": "code",
   "execution_count": 1,
   "outputs": [],
   "source": [
    "baseUrl:str = \"https://c9c1-213-233-41-138.ngrok-free.app/maas\"\n",
    "baseHeader = {\"user\" : \"{'_id' : '60f527b78c90cf6b8bf450eb', 'client_id' : '60f1b8e0203c9b20acb9ad26'}\", \n",
    "              \"Content-Type\" : \"application/json\"}\n",
    "main_date = \"2024-05-28T15:00:36.459Z\";\n",
    "provider_id = \"0b13f2d6-d5cb-48aa-aeed-ed3a5a7f1da6\""
   ],
   "metadata": {
    "collapsed": false,
    "ExecuteTime": {
     "end_time": "2024-05-28T14:24:30.530520500Z",
     "start_time": "2024-05-28T14:24:30.520999900Z"
    }
   },
   "id": "bb551738f7b8ae64"
  },
  {
   "cell_type": "markdown",
   "source": [
    "<h1> User registration </h1>"
   ],
   "metadata": {
    "collapsed": false
   },
   "id": "54518aac676ec66e"
  },
  {
   "cell_type": "code",
   "execution_count": 8,
   "outputs": [],
   "source": [],
   "metadata": {
    "collapsed": false,
    "ExecuteTime": {
     "end_time": "2024-05-28T09:05:52.980615900Z",
     "start_time": "2024-05-28T09:05:52.970102700Z"
    }
   },
   "id": "c06e2be7c50122ab"
  },
  {
   "cell_type": "code",
   "execution_count": null,
   "outputs": [],
   "source": [],
   "metadata": {
    "collapsed": false,
    "ExecuteTime": {
     "end_time": "2024-05-28T08:33:35.135781300Z",
     "start_time": "2024-05-28T08:33:35.029091500Z"
    }
   },
   "id": "ff1d3ddc8ce0fadf"
  },
  {
   "cell_type": "code",
   "execution_count": null,
   "outputs": [],
   "source": [],
   "metadata": {
    "collapsed": false,
    "ExecuteTime": {
     "end_time": "2024-05-28T08:33:35.135781300Z",
     "start_time": "2024-05-28T08:33:35.032600100Z"
    }
   },
   "id": "1df163e02ca5fbef"
  },
  {
   "cell_type": "code",
   "execution_count": null,
   "outputs": [],
   "source": [],
   "metadata": {
    "collapsed": false,
    "ExecuteTime": {
     "end_time": "2024-05-28T08:33:35.136781900Z",
     "start_time": "2024-05-28T08:33:35.033606100Z"
    }
   },
   "id": "180469dc0d6d353"
  },
  {
   "cell_type": "code",
   "execution_count": null,
   "outputs": [],
   "source": [],
   "metadata": {
    "collapsed": false,
    "ExecuteTime": {
     "end_time": "2024-05-28T08:33:35.136781900Z",
     "start_time": "2024-05-28T08:33:35.037706400Z"
    }
   },
   "id": "cdb5cd33b54ff877"
  },
  {
   "cell_type": "code",
   "execution_count": null,
   "outputs": [],
   "source": [],
   "metadata": {
    "collapsed": false,
    "ExecuteTime": {
     "end_time": "2024-05-28T08:33:35.155781200Z",
     "start_time": "2024-05-28T08:33:35.039715400Z"
    }
   },
   "id": "62c52fd5ba133079"
  },
  {
   "cell_type": "code",
   "execution_count": null,
   "outputs": [],
   "source": [],
   "metadata": {
    "collapsed": false
   },
   "id": "3a20ede034770e43"
  }
 ],
 "metadata": {
  "kernelspec": {
   "display_name": "Python 3",
   "language": "python",
   "name": "python3"
  },
  "language_info": {
   "codemirror_mode": {
    "name": "ipython",
    "version": 2
   },
   "file_extension": ".py",
   "mimetype": "text/x-python",
   "name": "python",
   "nbconvert_exporter": "python",
   "pygments_lexer": "ipython2",
   "version": "2.7.6"
  }
 },
 "nbformat": 4,
 "nbformat_minor": 5
}
