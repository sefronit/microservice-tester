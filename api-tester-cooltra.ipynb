{
 "cells": [
  {
   "cell_type": "code",
   "execution_count": 18,
   "id": "initial_id",
   "metadata": {
    "collapsed": true,
    "ExecuteTime": {
     "start_time": "2024-06-19T16:42:46.159551600Z"
    }
   },
   "outputs": [],
   "source": [
    "import requests as req\n",
    "import json as js\n",
    "from dtos.dtos import *"
   ]
  },
  {
   "cell_type": "code",
   "execution_count": 19,
   "outputs": [],
   "source": [
    "baseUrl:str = \"http://localhost:3010/maas\"\n",
    "baseHeader = {\"user\" : \"{'_id' : '60f527b78c90cf6b8bf450eb', 'client_id' : '60f1b8e0203c9b20acb9ad26'}\", \n",
    "              \"Content-Type\" : \"application/json\"}\n",
    "main_date = \"2024-05-28T15:00:36.459Z\"\n",
    "provider_id = \"0b13f2d6-d5cb-48aa-aeed-ed3a5a7f1da6\""
   ],
   "metadata": {
    "collapsed": false,
    "ExecuteTime": {
     "end_time": "2024-06-19T16:42:46.305331800Z",
     "start_time": "2024-06-19T16:42:46.285323400Z"
    }
   },
   "id": "7ddfdaee503c5b7d"
  },
  {
   "cell_type": "markdown",
   "source": [
    "<h1> Check the auth of Cooltra <h1>"
   ],
   "metadata": {
    "collapsed": false
   },
   "id": "d0161a70bdbfb2d8"
  },
  {
   "cell_type": "code",
   "execution_count": 3,
   "outputs": [],
   "source": [
    "dataAuth = \"\"\"\n",
    "    {\n",
    "     \"grant_type\": \"client_credentials\",\n",
    "     \"client_id\": \"JTrLV2ByJYJ5w1FU0M8tjkrnOh2U8uD\",\n",
    "     \"client_secret\": \"zEoTATE6iciep+t8iHfbLmmTbJe3k54C2ZpCavXTXe/ZO0FJqbhUsM0prGv/JwgQ\",\n",
    "     \"scope\": \"offers\"\n",
    "    }\n",
    "           \"\"\"\n",
    "\n",
    "# authorize\n",
    "#########################################################################\n",
    "cooltraBaseUrl = \"https://maas.zeus-stage.cooltra.com\"\n",
    "\n",
    "response = req.request(\"POST\",\n",
    "                       url=cooltraBaseUrl + \"/oauth/token\",\n",
    "                       headers= {\"Content-Type\" : \"application/json\", \"Accept\" : \"application/json\"},\n",
    "                       data=dataAuth\n",
    "                       )\n",
    "\n",
    "result : CooltraAuthResponseDTO = CooltraAuthResponseDTOSchema().loads(response.text)\n",
    "token = \"Bearer \" + result.access_token\n",
    "\n",
    "#########################################################################\n"
   ],
   "metadata": {
    "collapsed": false,
    "ExecuteTime": {
     "end_time": "2024-06-18T13:52:38.783902100Z",
     "start_time": "2024-06-18T13:52:38.288948600Z"
    }
   },
   "id": "89a92d6186ca99f0"
  },
  {
   "cell_type": "code",
   "execution_count": 4,
   "outputs": [
    {
     "data": {
      "text/plain": "'Bearer eyJhbGciOiJSUzI1NiIsImtpZCI6ImRmOGIxNTFiY2Q5MGQ1YjMwMjBlNTNhMzYyZTRiMzA3NTYzMzdhNjEiLCJ0eXAiOiJKV1QifQ.eyJwcm92aWRlcl9pZCI6Ik1PVkVTSU9OIiwiaXNzIjoiaHR0cHM6Ly9zZWN1cmV0b2tlbi5nb29nbGUuY29tL2Nvb2x0cmEtc3RhZ2UiLCJhdWQiOiJjb29sdHJhLXN0YWdlIiwiYXV0aF90aW1lIjoxNzE4NzE4NzU4LCJ1c2VyX2lkIjoiZXJMVlVwN21IcGI3S1NLdXk3d1hBaG93NU1iMiIsInN1YiI6ImVyTFZVcDdtSHBiN0tTS3V5N3dYQWhvdzVNYjIiLCJpYXQiOjE3MTg3MTg3NTgsImV4cCI6MTcxODcyMjM1OCwiZW1haWwiOiJqdHJsdjJieWp5ajV3MWZ1MG04dGprcm5vaDJ1OHVkQGNvb2x0cmEuY29tIiwiZW1haWxfdmVyaWZpZWQiOmZhbHNlLCJmaXJlYmFzZSI6eyJpZGVudGl0aWVzIjp7ImVtYWlsIjpbImp0cmx2MmJ5anlqNXcxZnUwbTh0amtybm9oMnU4dWRAY29vbHRyYS5jb20iXX0sInNpZ25faW5fcHJvdmlkZXIiOiJwYXNzd29yZCJ9fQ.NV_sB609PQ_-CiRbJ3RgS-SJ9BR2jtRlRStWYvmmRdX23Dop_Pc0oJHRVwfXyp7kyAsLDDcqJXZjI24MRLzSB_dPkDgCxX0HBfaS0pTyfllxcg88zACkuuYChfwZp_ViHXK4Z7TFzA22E42aKtJJpa2s6gH8F-Sri1MUjuQt3dAWjWD0UAHMQxueVOYnzZCFE0tVvv323NZhliuI0Gs_HaiohaL13X8q8uq6TVuF5nQVlRcN3aiGI2qmzvCSC48JfYhvOnoetY0djbapRChAeNR3S26KqaWWPgMHQMPqYSF3o_7drHx7EOBwanTx0zx2uA4AUDgPpXFtck7mc-ysXA'"
     },
     "execution_count": 4,
     "metadata": {},
     "output_type": "execute_result"
    }
   ],
   "source": [
    "token"
   ],
   "metadata": {
    "collapsed": false,
    "ExecuteTime": {
     "end_time": "2024-06-18T13:52:39.304622100Z",
     "start_time": "2024-06-18T13:52:39.292610300Z"
    }
   },
   "id": "bb551738f7b8ae64"
  },
  {
   "cell_type": "markdown",
   "source": [
    "<h1> User registration </h1>"
   ],
   "metadata": {
    "collapsed": false
   },
   "id": "54518aac676ec66e"
  },
  {
   "cell_type": "code",
   "execution_count": 20,
   "outputs": [],
   "source": [
    "newUser = CooltraUserRegistrationRequestDTO(\n",
    "    external_user_id=\"f468fdd1-c6f3-4dca-9dc3-dbcba6b8ea8c\",\n",
    "    first_name=\"John\",\n",
    "    middle_name=\"Doe\",\n",
    "    last_name=\"Doe\",\n",
    "    email=\"test@test.com\",\n",
    "    phone=\"+393493494949\",\n",
    "    language=\"en\",\n",
    "    gender=\"m\",\n",
    "    birthdate=\"1990-01-01\",\n",
    "    address_street=\"123 Main St\",\n",
    "    address_city=\"New York\",\n",
    "    address_zip=\"12345\",\n",
    "    address_country_code=\"US\",\n",
    "    address_state=\"NY\",\n",
    "    provider=\"erLVUp7mHpb7KSKuy7wXAhow5Mb2\",\n",
    "    provider_code=\"cooltra\"\n",
    ")\n",
    "\n",
    "\n",
    "response = req.request(\"POST\", \n",
    "            baseUrl + \"/moto-rental/register\",\n",
    "            headers=baseHeader,\n",
    "            data=CooltraUserRegistrationRequestDTOSchema().dumps(newUser)\n",
    "            )\n",
    "\n"
   ],
   "metadata": {
    "collapsed": false,
    "ExecuteTime": {
     "end_time": "2024-06-19T16:43:01.208073300Z",
     "start_time": "2024-06-19T16:42:59.033429300Z"
    }
   },
   "id": "c06e2be7c50122ab"
  },
  {
   "cell_type": "code",
   "outputs": [
    {
     "data": {
      "text/plain": "'{\"external_id\":\"136382391535434\",\"first_name\":\"John\",\"middle_name\":null,\"last_name\":\"Doe\",\"gender\":null,\"phone\":null,\"language\":null,\"birthdate\":\"0001-01-01T00:00:00\",\"address_street\":null,\"address_city\":null,\"address_zip\":null,\"address_state\":null,\"address_country_code\":null,\"home_system_id\":null,\"user_condition\":null,\"email\":\"test@test.com\",\"state\":null}'"
     },
     "execution_count": 21,
     "metadata": {},
     "output_type": "execute_result"
    }
   ],
   "source": [
    "response.text"
   ],
   "metadata": {
    "collapsed": false,
    "ExecuteTime": {
     "end_time": "2024-06-19T16:43:01.229483900Z",
     "start_time": "2024-06-19T16:43:01.221478500Z"
    }
   },
   "id": "e28b4b0113f89705",
   "execution_count": 21
  },
  {
   "cell_type": "markdown",
   "source": [
    "<h1> Get configuration </h1>"
   ],
   "metadata": {
    "collapsed": false
   },
   "id": "d52ffd25d1e5c3ed"
  },
  {
   "cell_type": "code",
   "execution_count": 5,
   "outputs": [],
   "source": [
    "response = req.request(\"GET\", \n",
    "                       baseUrl + \"/moto-rental/configuration\", \n",
    "                       headers=baseHeader,\n",
    "                       params={\"providerCode\":\"cooltra\"})\n",
    "result : CooltraConfigurationResponseDTO = CooltraConfigurationResponseDTOSchema().loads(response.text)\n",
    "all_ids = [system.id for system in result.systems]"
   ],
   "metadata": {
    "collapsed": false,
    "ExecuteTime": {
     "end_time": "2024-06-19T13:02:44.182724500Z",
     "start_time": "2024-06-19T13:02:43.784193400Z"
    }
   },
   "id": "1df163e02ca5fbef"
  },
  {
   "cell_type": "code",
   "outputs": [
    {
     "data": {
      "text/plain": "['rome',\n 'paris',\n 'madrid',\n 'berlin',\n 'zurich',\n 'valencia',\n 'seville',\n 'turin',\n 'lisbon',\n 'barcelona',\n 'milan']"
     },
     "execution_count": 6,
     "metadata": {},
     "output_type": "execute_result"
    }
   ],
   "source": [
    "all_ids"
   ],
   "metadata": {
    "collapsed": false,
    "ExecuteTime": {
     "end_time": "2024-06-19T13:02:44.597955200Z",
     "start_time": "2024-06-19T13:02:44.590009500Z"
    }
   },
   "id": "3923199b0889006b",
   "execution_count": 6
  },
  {
   "cell_type": "markdown",
   "source": [
    "<h1> Get vehicles in specific zone </h1>"
   ],
   "metadata": {
    "collapsed": false
   },
   "id": "caece6fcbff76df2"
  },
  {
   "cell_type": "code",
   "execution_count": 57,
   "outputs": [],
   "source": [
    "response = req.request(\"GET\", \n",
    "                       baseUrl + \"/moto-rental/vehicles\", \n",
    "                       headers=baseHeader, \n",
    "                       params={\"providerCode\":\"cooltra\", \"systemId\" : \"barcelona\"})\n",
    "vehicles:List[CooltraMotoRentalVehicleDTO] = CooltraMotoRentalVehicleDTOSchema().loads(response.text, many=True)\n",
    "first_vehicle_id = vehicles[5].id"
   ],
   "metadata": {
    "collapsed": false,
    "ExecuteTime": {
     "end_time": "2024-06-19T21:25:37.764871700Z",
     "start_time": "2024-06-19T21:25:37.530577800Z"
    }
   },
   "id": "cdb5cd33b54ff877"
  },
  {
   "cell_type": "code",
   "outputs": [],
   "source": [],
   "metadata": {
    "collapsed": false,
    "ExecuteTime": {
     "end_time": "2024-06-19T21:25:38.302951400Z",
     "start_time": "2024-06-19T21:25:38.292928600Z"
    }
   },
   "id": "cae02488a718727f",
   "execution_count": 57
  },
  {
   "cell_type": "markdown",
   "source": [
    "<h1> Get specific vehicle </h1>"
   ],
   "metadata": {
    "collapsed": false
   },
   "id": "40cc8cc4a2f7cfaf"
  },
  {
   "cell_type": "code",
   "execution_count": 58,
   "outputs": [],
   "source": [
    "response = req.request(\"GET\", \n",
    "                       baseUrl + f\"/moto-rental/vehicles/{first_vehicle_id}\", \n",
    "                       headers=baseHeader, \n",
    "                       params={\"providerCode\":\"cooltra\", \"systemId\" : \"rome\"})\n",
    "result : CooltraMotoRentalVehicleDTO = CooltraMotoRentalVehicleDTOSchema().loads(response.text)"
   ],
   "metadata": {
    "collapsed": false,
    "ExecuteTime": {
     "end_time": "2024-06-19T21:25:38.994079100Z",
     "start_time": "2024-06-19T21:25:38.773701800Z"
    }
   },
   "id": "3a20ede034770e43"
  },
  {
   "cell_type": "code",
   "outputs": [
    {
     "data": {
      "text/plain": "CooltraMotoRentalVehicleDTO(id=17990347497, license_plate='FAKE-L2768CYJ', position=[2.168419217412566, 41.40277256088423], range=50, battery_percentage=25, model_id=None)"
     },
     "execution_count": 59,
     "metadata": {},
     "output_type": "execute_result"
    }
   ],
   "source": [
    "result"
   ],
   "metadata": {
    "collapsed": false,
    "ExecuteTime": {
     "end_time": "2024-06-19T21:25:39.670286700Z",
     "start_time": "2024-06-19T21:25:39.627133200Z"
    }
   },
   "id": "cc70601d5beb0634",
   "execution_count": 59
  },
  {
   "cell_type": "markdown",
   "source": [
    "<h1> Reserve vehicle </h1>"
   ],
   "metadata": {
    "collapsed": false
   },
   "id": "c96643b3bf390f85"
  },
  {
   "cell_type": "code",
   "outputs": [
    {
     "ename": "ValidationError",
     "evalue": "{'id': ['Missing data for required field.'], 'system_id': ['Missing data for required field.'], 'created_at': ['Missing data for required field.'], 'expires_at': ['Missing data for required field.'], 'expires_in': ['Missing data for required field.'], 'vehicle': ['Missing data for required field.'], 'errors': ['Unknown field.'], 'code': ['Unknown field.']}",
     "output_type": "error",
     "traceback": [
      "\u001B[1;31m---------------------------------------------------------------------------\u001B[0m",
      "\u001B[1;31mValidationError\u001B[0m                           Traceback (most recent call last)",
      "Cell \u001B[1;32mIn[61], line 11\u001B[0m\n\u001B[0;32m      1\u001B[0m reservationBody \u001B[38;5;241m=\u001B[39m CooltraReservationRequestDTO(\n\u001B[0;32m      2\u001B[0m     vehicle_id \u001B[38;5;241m=\u001B[39m first_vehicle_id,\n\u001B[0;32m      3\u001B[0m     provider_code\u001B[38;5;241m=\u001B[39m\u001B[38;5;124m\"\u001B[39m\u001B[38;5;124mcooltra\u001B[39m\u001B[38;5;124m\"\u001B[39m\n\u001B[0;32m      4\u001B[0m )\n\u001B[0;32m      6\u001B[0m response \u001B[38;5;241m=\u001B[39m req\u001B[38;5;241m.\u001B[39mrequest(\u001B[38;5;124m\"\u001B[39m\u001B[38;5;124mPOST\u001B[39m\u001B[38;5;124m\"\u001B[39m, \n\u001B[0;32m      7\u001B[0m                        baseUrl \u001B[38;5;241m+\u001B[39m \u001B[38;5;124mf\u001B[39m\u001B[38;5;124m\"\u001B[39m\u001B[38;5;124m/moto-rental/reserve\u001B[39m\u001B[38;5;124m\"\u001B[39m, \n\u001B[0;32m      8\u001B[0m                        headers\u001B[38;5;241m=\u001B[39mbaseHeader, \n\u001B[0;32m      9\u001B[0m                        data\u001B[38;5;241m=\u001B[39mCooltraReservationRequestDTOSchema()\u001B[38;5;241m.\u001B[39mdumps(reservationBody))\n\u001B[1;32m---> 11\u001B[0m result : CooltraReservationInfoDTOSchema \u001B[38;5;241m=\u001B[39m \u001B[43mCooltraReservationInfoDTOSchema\u001B[49m\u001B[43m(\u001B[49m\u001B[43m)\u001B[49m\u001B[38;5;241;43m.\u001B[39;49m\u001B[43mloads\u001B[49m\u001B[43m(\u001B[49m\u001B[43mresponse\u001B[49m\u001B[38;5;241;43m.\u001B[39;49m\u001B[43mtext\u001B[49m\u001B[43m)\u001B[49m\n",
      "File \u001B[1;32mD:\\Movesion\\Projects\\microservice-tester\\venv\\Lib\\site-packages\\marshmallow\\schema.py:757\u001B[0m, in \u001B[0;36mSchema.loads\u001B[1;34m(self, json_data, many, partial, unknown, **kwargs)\u001B[0m\n\u001B[0;32m    736\u001B[0m \u001B[38;5;250m\u001B[39m\u001B[38;5;124;03m\"\"\"Same as :meth:`load`, except it takes a JSON string as input.\u001B[39;00m\n\u001B[0;32m    737\u001B[0m \n\u001B[0;32m    738\u001B[0m \u001B[38;5;124;03m:param json_data: A JSON string of the data to deserialize.\u001B[39;00m\n\u001B[1;32m   (...)\u001B[0m\n\u001B[0;32m    754\u001B[0m \u001B[38;5;124;03m    if invalid data are passed.\u001B[39;00m\n\u001B[0;32m    755\u001B[0m \u001B[38;5;124;03m\"\"\"\u001B[39;00m\n\u001B[0;32m    756\u001B[0m data \u001B[38;5;241m=\u001B[39m \u001B[38;5;28mself\u001B[39m\u001B[38;5;241m.\u001B[39mopts\u001B[38;5;241m.\u001B[39mrender_module\u001B[38;5;241m.\u001B[39mloads(json_data, \u001B[38;5;241m*\u001B[39m\u001B[38;5;241m*\u001B[39mkwargs)\n\u001B[1;32m--> 757\u001B[0m \u001B[38;5;28;01mreturn\u001B[39;00m \u001B[38;5;28;43mself\u001B[39;49m\u001B[38;5;241;43m.\u001B[39;49m\u001B[43mload\u001B[49m\u001B[43m(\u001B[49m\u001B[43mdata\u001B[49m\u001B[43m,\u001B[49m\u001B[43m \u001B[49m\u001B[43mmany\u001B[49m\u001B[38;5;241;43m=\u001B[39;49m\u001B[43mmany\u001B[49m\u001B[43m,\u001B[49m\u001B[43m \u001B[49m\u001B[43mpartial\u001B[49m\u001B[38;5;241;43m=\u001B[39;49m\u001B[43mpartial\u001B[49m\u001B[43m,\u001B[49m\u001B[43m \u001B[49m\u001B[43munknown\u001B[49m\u001B[38;5;241;43m=\u001B[39;49m\u001B[43munknown\u001B[49m\u001B[43m)\u001B[49m\n",
      "File \u001B[1;32mD:\\Movesion\\Projects\\microservice-tester\\venv\\Lib\\site-packages\\marshmallow\\schema.py:723\u001B[0m, in \u001B[0;36mSchema.load\u001B[1;34m(self, data, many, partial, unknown)\u001B[0m\n\u001B[0;32m    692\u001B[0m \u001B[38;5;28;01mdef\u001B[39;00m \u001B[38;5;21mload\u001B[39m(\n\u001B[0;32m    693\u001B[0m     \u001B[38;5;28mself\u001B[39m,\n\u001B[0;32m    694\u001B[0m     data: (\n\u001B[1;32m   (...)\u001B[0m\n\u001B[0;32m    701\u001B[0m     unknown: \u001B[38;5;28mstr\u001B[39m \u001B[38;5;241m|\u001B[39m \u001B[38;5;28;01mNone\u001B[39;00m \u001B[38;5;241m=\u001B[39m \u001B[38;5;28;01mNone\u001B[39;00m,\n\u001B[0;32m    702\u001B[0m ):\n\u001B[0;32m    703\u001B[0m \u001B[38;5;250m    \u001B[39m\u001B[38;5;124;03m\"\"\"Deserialize a data structure to an object defined by this Schema's fields.\u001B[39;00m\n\u001B[0;32m    704\u001B[0m \n\u001B[0;32m    705\u001B[0m \u001B[38;5;124;03m    :param data: The data to deserialize.\u001B[39;00m\n\u001B[1;32m   (...)\u001B[0m\n\u001B[0;32m    721\u001B[0m \u001B[38;5;124;03m        if invalid data are passed.\u001B[39;00m\n\u001B[0;32m    722\u001B[0m \u001B[38;5;124;03m    \"\"\"\u001B[39;00m\n\u001B[1;32m--> 723\u001B[0m     \u001B[38;5;28;01mreturn\u001B[39;00m \u001B[38;5;28;43mself\u001B[39;49m\u001B[38;5;241;43m.\u001B[39;49m\u001B[43m_do_load\u001B[49m\u001B[43m(\u001B[49m\n\u001B[0;32m    724\u001B[0m \u001B[43m        \u001B[49m\u001B[43mdata\u001B[49m\u001B[43m,\u001B[49m\u001B[43m \u001B[49m\u001B[43mmany\u001B[49m\u001B[38;5;241;43m=\u001B[39;49m\u001B[43mmany\u001B[49m\u001B[43m,\u001B[49m\u001B[43m \u001B[49m\u001B[43mpartial\u001B[49m\u001B[38;5;241;43m=\u001B[39;49m\u001B[43mpartial\u001B[49m\u001B[43m,\u001B[49m\u001B[43m \u001B[49m\u001B[43munknown\u001B[49m\u001B[38;5;241;43m=\u001B[39;49m\u001B[43munknown\u001B[49m\u001B[43m,\u001B[49m\u001B[43m \u001B[49m\u001B[43mpostprocess\u001B[49m\u001B[38;5;241;43m=\u001B[39;49m\u001B[38;5;28;43;01mTrue\u001B[39;49;00m\n\u001B[0;32m    725\u001B[0m \u001B[43m    \u001B[49m\u001B[43m)\u001B[49m\n",
      "File \u001B[1;32mD:\\Movesion\\Projects\\microservice-tester\\venv\\Lib\\site-packages\\marshmallow\\schema.py:910\u001B[0m, in \u001B[0;36mSchema._do_load\u001B[1;34m(self, data, many, partial, unknown, postprocess)\u001B[0m\n\u001B[0;32m    908\u001B[0m     exc \u001B[38;5;241m=\u001B[39m ValidationError(errors, data\u001B[38;5;241m=\u001B[39mdata, valid_data\u001B[38;5;241m=\u001B[39mresult)\n\u001B[0;32m    909\u001B[0m     \u001B[38;5;28mself\u001B[39m\u001B[38;5;241m.\u001B[39mhandle_error(exc, data, many\u001B[38;5;241m=\u001B[39mmany, partial\u001B[38;5;241m=\u001B[39mpartial)\n\u001B[1;32m--> 910\u001B[0m     \u001B[38;5;28;01mraise\u001B[39;00m exc\n\u001B[0;32m    912\u001B[0m \u001B[38;5;28;01mreturn\u001B[39;00m result\n",
      "\u001B[1;31mValidationError\u001B[0m: {'id': ['Missing data for required field.'], 'system_id': ['Missing data for required field.'], 'created_at': ['Missing data for required field.'], 'expires_at': ['Missing data for required field.'], 'expires_in': ['Missing data for required field.'], 'vehicle': ['Missing data for required field.'], 'errors': ['Unknown field.'], 'code': ['Unknown field.']}"
     ]
    }
   ],
   "source": [
    "reservationBody = CooltraReservationRequestDTO(\n",
    "    vehicle_id = first_vehicle_id,\n",
    "    provider_code=\"cooltra\"\n",
    ")\n",
    "\n",
    "response = req.request(\"POST\", \n",
    "                       baseUrl + f\"/moto-rental/reserve\", \n",
    "                       headers=baseHeader, \n",
    "                       data=CooltraReservationRequestDTOSchema().dumps(reservationBody))\n",
    "\n",
    "result : CooltraReservationInfoDTOSchema = CooltraReservationInfoDTOSchema().loads(response.text)"
   ],
   "metadata": {
    "collapsed": false,
    "ExecuteTime": {
     "end_time": "2024-06-19T21:40:21.426950300Z",
     "start_time": "2024-06-19T21:40:16.578857400Z"
    }
   },
   "id": "6a9194b333ef3746",
   "execution_count": 61
  },
  {
   "cell_type": "code",
   "outputs": [
    {
     "data": {
      "text/plain": "'{\"errors\":[\"Cooltra Error : {\\\\r\\\\n  \\\\u0022user\\\\u0022: [\\\\r\\\\n    \\\\u0022max_reservations_reached\\\\u0022\\\\r\\\\n  ]\\\\r\\\\n}\"],\"code\":\"cooltra__max_reservations_reached\"}'"
     },
     "execution_count": 63,
     "metadata": {},
     "output_type": "execute_result"
    }
   ],
   "source": [],
   "metadata": {
    "collapsed": false,
    "ExecuteTime": {
     "end_time": "2024-06-19T21:40:37.224304900Z",
     "start_time": "2024-06-19T21:40:37.214824300Z"
    }
   },
   "id": "ae528bfd5bafacb1",
   "execution_count": 63
  },
  {
   "cell_type": "code",
   "outputs": [],
   "source": [],
   "metadata": {
    "collapsed": false,
    "ExecuteTime": {
     "end_time": "2024-06-19T20:24:41.205996300Z",
     "start_time": "2024-06-19T20:24:41.189619900Z"
    }
   },
   "id": "de996942704dc890",
   "execution_count": 39
  },
  {
   "cell_type": "markdown",
   "source": [
    "<h1> Check in to vehicle </h1>"
   ],
   "metadata": {
    "collapsed": false
   },
   "id": "71b931b029675f21"
  },
  {
   "cell_type": "code",
   "outputs": [
    {
     "ename": "ValidationError",
     "evalue": "{'id': ['Missing data for required field.'], 'system_id': ['Missing data for required field.'], 'reservation_id': ['Missing data for required field.'], 'started_at': ['Missing data for required field.'], 'duration': ['Missing data for required field.'], 'state': ['Missing data for required field.'], 'vehicle': ['Missing data for required field.'], 'errors': ['Unknown field.'], 'code': ['Unknown field.']}",
     "output_type": "error",
     "traceback": [
      "\u001B[1;31m---------------------------------------------------------------------------\u001B[0m",
      "\u001B[1;31mValidationError\u001B[0m                           Traceback (most recent call last)",
      "Cell \u001B[1;32mIn[55], line 11\u001B[0m\n\u001B[0;32m      1\u001B[0m reservationBody \u001B[38;5;241m=\u001B[39m CooltraCheckInRequestDTO(\n\u001B[0;32m      2\u001B[0m     provider_code \u001B[38;5;241m=\u001B[39m \u001B[38;5;124m\"\u001B[39m\u001B[38;5;124mcooltra\u001B[39m\u001B[38;5;124m\"\u001B[39m,\n\u001B[0;32m      3\u001B[0m     vehicle_id \u001B[38;5;241m=\u001B[39m first_vehicle_id\n\u001B[0;32m      4\u001B[0m )\n\u001B[0;32m      6\u001B[0m response \u001B[38;5;241m=\u001B[39m req\u001B[38;5;241m.\u001B[39mrequest(\u001B[38;5;124m\"\u001B[39m\u001B[38;5;124mPOST\u001B[39m\u001B[38;5;124m\"\u001B[39m, \n\u001B[0;32m      7\u001B[0m                        baseUrl \u001B[38;5;241m+\u001B[39m \u001B[38;5;124mf\u001B[39m\u001B[38;5;124m\"\u001B[39m\u001B[38;5;124m/moto-rental/check-in\u001B[39m\u001B[38;5;124m\"\u001B[39m, \n\u001B[0;32m      8\u001B[0m                        headers\u001B[38;5;241m=\u001B[39mbaseHeader, \n\u001B[0;32m      9\u001B[0m                        data\u001B[38;5;241m=\u001B[39mCooltraCheckInRequestDTOSchema()\u001B[38;5;241m.\u001B[39mdumps(reservationBody))\n\u001B[1;32m---> 11\u001B[0m result : CooltraCheckInInfoDTO \u001B[38;5;241m=\u001B[39m \u001B[43mCooltraCheckInInfoDTOSchema\u001B[49m\u001B[43m(\u001B[49m\u001B[43m)\u001B[49m\u001B[38;5;241;43m.\u001B[39;49m\u001B[43mloads\u001B[49m\u001B[43m(\u001B[49m\u001B[43mresponse\u001B[49m\u001B[38;5;241;43m.\u001B[39;49m\u001B[43mtext\u001B[49m\u001B[43m)\u001B[49m\n",
      "File \u001B[1;32mD:\\Movesion\\Projects\\microservice-tester\\venv\\Lib\\site-packages\\marshmallow\\schema.py:757\u001B[0m, in \u001B[0;36mSchema.loads\u001B[1;34m(self, json_data, many, partial, unknown, **kwargs)\u001B[0m\n\u001B[0;32m    736\u001B[0m \u001B[38;5;250m\u001B[39m\u001B[38;5;124;03m\"\"\"Same as :meth:`load`, except it takes a JSON string as input.\u001B[39;00m\n\u001B[0;32m    737\u001B[0m \n\u001B[0;32m    738\u001B[0m \u001B[38;5;124;03m:param json_data: A JSON string of the data to deserialize.\u001B[39;00m\n\u001B[1;32m   (...)\u001B[0m\n\u001B[0;32m    754\u001B[0m \u001B[38;5;124;03m    if invalid data are passed.\u001B[39;00m\n\u001B[0;32m    755\u001B[0m \u001B[38;5;124;03m\"\"\"\u001B[39;00m\n\u001B[0;32m    756\u001B[0m data \u001B[38;5;241m=\u001B[39m \u001B[38;5;28mself\u001B[39m\u001B[38;5;241m.\u001B[39mopts\u001B[38;5;241m.\u001B[39mrender_module\u001B[38;5;241m.\u001B[39mloads(json_data, \u001B[38;5;241m*\u001B[39m\u001B[38;5;241m*\u001B[39mkwargs)\n\u001B[1;32m--> 757\u001B[0m \u001B[38;5;28;01mreturn\u001B[39;00m \u001B[38;5;28;43mself\u001B[39;49m\u001B[38;5;241;43m.\u001B[39;49m\u001B[43mload\u001B[49m\u001B[43m(\u001B[49m\u001B[43mdata\u001B[49m\u001B[43m,\u001B[49m\u001B[43m \u001B[49m\u001B[43mmany\u001B[49m\u001B[38;5;241;43m=\u001B[39;49m\u001B[43mmany\u001B[49m\u001B[43m,\u001B[49m\u001B[43m \u001B[49m\u001B[43mpartial\u001B[49m\u001B[38;5;241;43m=\u001B[39;49m\u001B[43mpartial\u001B[49m\u001B[43m,\u001B[49m\u001B[43m \u001B[49m\u001B[43munknown\u001B[49m\u001B[38;5;241;43m=\u001B[39;49m\u001B[43munknown\u001B[49m\u001B[43m)\u001B[49m\n",
      "File \u001B[1;32mD:\\Movesion\\Projects\\microservice-tester\\venv\\Lib\\site-packages\\marshmallow\\schema.py:723\u001B[0m, in \u001B[0;36mSchema.load\u001B[1;34m(self, data, many, partial, unknown)\u001B[0m\n\u001B[0;32m    692\u001B[0m \u001B[38;5;28;01mdef\u001B[39;00m \u001B[38;5;21mload\u001B[39m(\n\u001B[0;32m    693\u001B[0m     \u001B[38;5;28mself\u001B[39m,\n\u001B[0;32m    694\u001B[0m     data: (\n\u001B[1;32m   (...)\u001B[0m\n\u001B[0;32m    701\u001B[0m     unknown: \u001B[38;5;28mstr\u001B[39m \u001B[38;5;241m|\u001B[39m \u001B[38;5;28;01mNone\u001B[39;00m \u001B[38;5;241m=\u001B[39m \u001B[38;5;28;01mNone\u001B[39;00m,\n\u001B[0;32m    702\u001B[0m ):\n\u001B[0;32m    703\u001B[0m \u001B[38;5;250m    \u001B[39m\u001B[38;5;124;03m\"\"\"Deserialize a data structure to an object defined by this Schema's fields.\u001B[39;00m\n\u001B[0;32m    704\u001B[0m \n\u001B[0;32m    705\u001B[0m \u001B[38;5;124;03m    :param data: The data to deserialize.\u001B[39;00m\n\u001B[1;32m   (...)\u001B[0m\n\u001B[0;32m    721\u001B[0m \u001B[38;5;124;03m        if invalid data are passed.\u001B[39;00m\n\u001B[0;32m    722\u001B[0m \u001B[38;5;124;03m    \"\"\"\u001B[39;00m\n\u001B[1;32m--> 723\u001B[0m     \u001B[38;5;28;01mreturn\u001B[39;00m \u001B[38;5;28;43mself\u001B[39;49m\u001B[38;5;241;43m.\u001B[39;49m\u001B[43m_do_load\u001B[49m\u001B[43m(\u001B[49m\n\u001B[0;32m    724\u001B[0m \u001B[43m        \u001B[49m\u001B[43mdata\u001B[49m\u001B[43m,\u001B[49m\u001B[43m \u001B[49m\u001B[43mmany\u001B[49m\u001B[38;5;241;43m=\u001B[39;49m\u001B[43mmany\u001B[49m\u001B[43m,\u001B[49m\u001B[43m \u001B[49m\u001B[43mpartial\u001B[49m\u001B[38;5;241;43m=\u001B[39;49m\u001B[43mpartial\u001B[49m\u001B[43m,\u001B[49m\u001B[43m \u001B[49m\u001B[43munknown\u001B[49m\u001B[38;5;241;43m=\u001B[39;49m\u001B[43munknown\u001B[49m\u001B[43m,\u001B[49m\u001B[43m \u001B[49m\u001B[43mpostprocess\u001B[49m\u001B[38;5;241;43m=\u001B[39;49m\u001B[38;5;28;43;01mTrue\u001B[39;49;00m\n\u001B[0;32m    725\u001B[0m \u001B[43m    \u001B[49m\u001B[43m)\u001B[49m\n",
      "File \u001B[1;32mD:\\Movesion\\Projects\\microservice-tester\\venv\\Lib\\site-packages\\marshmallow\\schema.py:910\u001B[0m, in \u001B[0;36mSchema._do_load\u001B[1;34m(self, data, many, partial, unknown, postprocess)\u001B[0m\n\u001B[0;32m    908\u001B[0m     exc \u001B[38;5;241m=\u001B[39m ValidationError(errors, data\u001B[38;5;241m=\u001B[39mdata, valid_data\u001B[38;5;241m=\u001B[39mresult)\n\u001B[0;32m    909\u001B[0m     \u001B[38;5;28mself\u001B[39m\u001B[38;5;241m.\u001B[39mhandle_error(exc, data, many\u001B[38;5;241m=\u001B[39mmany, partial\u001B[38;5;241m=\u001B[39mpartial)\n\u001B[1;32m--> 910\u001B[0m     \u001B[38;5;28;01mraise\u001B[39;00m exc\n\u001B[0;32m    912\u001B[0m \u001B[38;5;28;01mreturn\u001B[39;00m result\n",
      "\u001B[1;31mValidationError\u001B[0m: {'id': ['Missing data for required field.'], 'system_id': ['Missing data for required field.'], 'reservation_id': ['Missing data for required field.'], 'started_at': ['Missing data for required field.'], 'duration': ['Missing data for required field.'], 'state': ['Missing data for required field.'], 'vehicle': ['Missing data for required field.'], 'errors': ['Unknown field.'], 'code': ['Unknown field.']}"
     ]
    }
   ],
   "source": [
    "reservationBody = CooltraCheckInRequestDTO(\n",
    "    provider_code = \"cooltra\",\n",
    "    vehicle_id = first_vehicle_id\n",
    ")\n",
    "\n",
    "response = req.request(\"POST\", \n",
    "                       baseUrl + f\"/moto-rental/check-in\", \n",
    "                       headers=baseHeader, \n",
    "                       data=CooltraCheckInRequestDTOSchema().dumps(reservationBody))\n",
    "\n",
    "result : CooltraCheckInInfoDTO = CooltraCheckInInfoDTOSchema().loads(response.text)"
   ],
   "metadata": {
    "collapsed": false,
    "ExecuteTime": {
     "end_time": "2024-06-19T21:24:46.901614100Z",
     "start_time": "2024-06-19T21:24:45.362143600Z"
    }
   },
   "id": "4e11abd63e8a4bbd",
   "execution_count": 55
  },
  {
   "cell_type": "code",
   "outputs": [
    {
     "data": {
      "text/plain": "'{\"errors\":[\"Cooltra Error : {\\\\r\\\\n  \\\\u0022vehicle\\\\u0022: [\\\\r\\\\n    \\\\u0022must be available\\\\u0022\\\\r\\\\n  ]\\\\r\\\\n}\"],\"code\":\"cooltra__vehicle_is_no_longer_available\"}'"
     },
     "execution_count": 56,
     "metadata": {},
     "output_type": "execute_result"
    }
   ],
   "source": [
    "response.text"
   ],
   "metadata": {
    "collapsed": false,
    "ExecuteTime": {
     "end_time": "2024-06-19T21:24:48.418465800Z",
     "start_time": "2024-06-19T21:24:48.408951700Z"
    }
   },
   "id": "b2802b286156db3b",
   "execution_count": 56
  },
  {
   "cell_type": "code",
   "outputs": [],
   "source": [],
   "metadata": {
    "collapsed": false,
    "ExecuteTime": {
     "end_time": "2024-05-29T20:00:50.351589700Z",
     "start_time": "2024-05-29T20:00:50.338115200Z"
    }
   },
   "id": "6cfe23d4de3064d1",
   "execution_count": 11
  },
  {
   "cell_type": "code",
   "outputs": [],
   "source": [],
   "metadata": {
    "collapsed": false,
    "ExecuteTime": {
     "end_time": "2024-05-29T20:00:50.479710800Z",
     "start_time": "2024-05-29T20:00:50.468736800Z"
    }
   },
   "id": "c1a07b2a97aab9ef",
   "execution_count": 11
  },
  {
   "cell_type": "code",
   "outputs": [],
   "source": [],
   "metadata": {
    "collapsed": false,
    "ExecuteTime": {
     "end_time": "2024-05-29T20:00:50.625627100Z",
     "start_time": "2024-05-29T20:00:50.617133900Z"
    }
   },
   "id": "3a700477b0bd9d51",
   "execution_count": 11
  },
  {
   "cell_type": "code",
   "outputs": [],
   "source": [],
   "metadata": {
    "collapsed": false,
    "ExecuteTime": {
     "end_time": "2024-05-29T20:00:50.800176700Z",
     "start_time": "2024-05-29T20:00:50.791198500Z"
    }
   },
   "id": "f8ec39f9fd8ab1e2",
   "execution_count": 11
  },
  {
   "cell_type": "code",
   "outputs": [],
   "source": [],
   "metadata": {
    "collapsed": false,
    "ExecuteTime": {
     "end_time": "2024-05-29T20:00:50.979051900Z",
     "start_time": "2024-05-29T20:00:50.962093900Z"
    }
   },
   "id": "5d44e18dc995227d",
   "execution_count": 11
  },
  {
   "cell_type": "code",
   "outputs": [],
   "source": [],
   "metadata": {
    "collapsed": false,
    "ExecuteTime": {
     "end_time": "2024-05-29T20:00:51.126324500Z",
     "start_time": "2024-05-29T20:00:51.117816700Z"
    }
   },
   "id": "76003012947df437",
   "execution_count": 11
  },
  {
   "cell_type": "code",
   "outputs": [],
   "source": [],
   "metadata": {
    "collapsed": false,
    "ExecuteTime": {
     "end_time": "2024-05-29T20:00:51.314516100Z",
     "start_time": "2024-05-29T20:00:51.304535500Z"
    }
   },
   "id": "6015eb01664cd1b9",
   "execution_count": 11
  },
  {
   "cell_type": "code",
   "outputs": [],
   "source": [],
   "metadata": {
    "collapsed": false,
    "ExecuteTime": {
     "end_time": "2024-05-29T20:00:51.592722400Z",
     "start_time": "2024-05-29T20:00:51.581498400Z"
    }
   },
   "id": "74e255639ab41c6",
   "execution_count": 11
  },
  {
   "cell_type": "code",
   "outputs": [],
   "source": [],
   "metadata": {
    "collapsed": false,
    "ExecuteTime": {
     "end_time": "2024-05-29T20:00:51.811031300Z",
     "start_time": "2024-05-29T20:00:51.787971800Z"
    }
   },
   "id": "4fbec47982f01eb3",
   "execution_count": 11
  },
  {
   "cell_type": "code",
   "outputs": [],
   "source": [],
   "metadata": {
    "collapsed": false,
    "ExecuteTime": {
     "end_time": "2024-05-29T20:00:52.014756700Z",
     "start_time": "2024-05-29T20:00:51.988315500Z"
    }
   },
   "id": "ee2dcc060ae9feba",
   "execution_count": 11
  },
  {
   "cell_type": "code",
   "outputs": [],
   "source": [],
   "metadata": {
    "collapsed": false,
    "ExecuteTime": {
     "end_time": "2024-05-29T20:00:52.172457900Z",
     "start_time": "2024-05-29T20:00:52.137009200Z"
    }
   },
   "id": "a1dd4d440e124803",
   "execution_count": 11
  },
  {
   "cell_type": "code",
   "outputs": [],
   "source": [],
   "metadata": {
    "collapsed": false
   },
   "id": "c7e13a0f87af3941"
  }
 ],
 "metadata": {
  "kernelspec": {
   "display_name": "Python 3",
   "language": "python",
   "name": "python3"
  },
  "language_info": {
   "codemirror_mode": {
    "name": "ipython",
    "version": 2
   },
   "file_extension": ".py",
   "mimetype": "text/x-python",
   "name": "python",
   "nbconvert_exporter": "python",
   "pygments_lexer": "ipython2",
   "version": "2.7.6"
  }
 },
 "nbformat": 4,
 "nbformat_minor": 5
}
