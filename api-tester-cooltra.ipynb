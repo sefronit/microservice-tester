{
 "cells": [
  {
   "cell_type": "code",
   "execution_count": 1,
   "id": "initial_id",
   "metadata": {
    "collapsed": true,
    "ExecuteTime": {
     "end_time": "2024-05-28T08:58:34.275913700Z",
     "start_time": "2024-05-28T08:58:34.208193300Z"
    }
   },
   "outputs": [],
   "source": [
    "import requests\n",
    "\n",
    "from dtos.dtos import *"
   ]
  },
  {
   "cell_type": "code",
   "execution_count": 9,
   "outputs": [],
   "source": [
    "dataAuth = \"\"\"\n",
    "    {\n",
    "     \"grant_type\": \"client_credentials\",\n",
    "     \"client_id\": \"JTrLV2ByJYJ5w1FU0M8tjkrnOh2U8uD\",\n",
    "     \"client_secret\": \"zEoTATE6iciep+t8iHfbLmmTbJe3k54C2ZpCavXTXe/ZO0FJqbhUsM0prGv/JwgQ\",\n",
    "     \"scope\": \"offers\"\n",
    "    }\n",
    "\"\"\"\n",
    "\n",
    "# authorize\n",
    "#########################################################################\n",
    "cooltraBaseUrl = \"https://maas.zeus-stage.cooltra.com\"\n",
    "\n",
    "response = req.request(\"POST\",\n",
    "                       url=cooltraBaseUrl + \"/oauth/token\",\n",
    "                       headers= {\"Content-Type\" : \"application/json\", \"Accept\" : \"application/json\"},\n",
    "                       data=dataAuth\n",
    "                       )\n",
    "\n",
    "result : CooltraAuthResponseDTO = CooltraAuthResponseDTOSchema().loads(response.text)\n",
    "token = \"Bearer \" + result.access_token\n",
    "\n",
    "#########################################################################\n"
   ],
   "metadata": {
    "collapsed": false,
    "ExecuteTime": {
     "end_time": "2024-05-28T09:24:25.564717500Z",
     "start_time": "2024-05-28T09:24:25.166278200Z"
    }
   },
   "id": "89a92d6186ca99f0"
  },
  {
   "cell_type": "code",
   "execution_count": 13,
   "outputs": [
    {
     "data": {
      "text/plain": "3600"
     },
     "execution_count": 13,
     "metadata": {},
     "output_type": "execute_result"
    }
   ],
   "source": [],
   "metadata": {
    "collapsed": false,
    "ExecuteTime": {
     "end_time": "2024-05-28T09:24:54.017870900Z",
     "start_time": "2024-05-28T09:24:54.009812800Z"
    }
   },
   "id": "bb551738f7b8ae64"
  },
  {
   "cell_type": "code",
   "execution_count": 6,
   "outputs": [],
   "source": [
    "config_url = cooltraBaseUrl + \"/maas/v1/configuration\"\n",
    "\n",
    "result = req.request(\"GET\", \n",
    "            url=config_url,\n",
    "            headers={\"Content-Type\" : \"application/json\",\n",
    "                     \"Accept\" : \"application/json\", \n",
    "                     \"Authorization\" : token})"
   ],
   "metadata": {
    "collapsed": false,
    "ExecuteTime": {
     "end_time": "2024-05-28T09:01:40.371654200Z",
     "start_time": "2024-05-28T09:01:40.230224100Z"
    }
   },
   "id": "3e968d960b2d6303"
  },
  {
   "cell_type": "code",
   "execution_count": 8,
   "outputs": [],
   "source": [],
   "metadata": {
    "collapsed": false,
    "ExecuteTime": {
     "end_time": "2024-05-28T09:05:52.980615900Z",
     "start_time": "2024-05-28T09:05:52.970102700Z"
    }
   },
   "id": "c06e2be7c50122ab"
  },
  {
   "cell_type": "code",
   "execution_count": null,
   "outputs": [],
   "source": [],
   "metadata": {
    "collapsed": false,
    "ExecuteTime": {
     "end_time": "2024-05-28T08:33:35.135781300Z",
     "start_time": "2024-05-28T08:33:35.029091500Z"
    }
   },
   "id": "ff1d3ddc8ce0fadf"
  },
  {
   "cell_type": "code",
   "execution_count": null,
   "outputs": [],
   "source": [],
   "metadata": {
    "collapsed": false,
    "ExecuteTime": {
     "end_time": "2024-05-28T08:33:35.135781300Z",
     "start_time": "2024-05-28T08:33:35.032600100Z"
    }
   },
   "id": "1df163e02ca5fbef"
  },
  {
   "cell_type": "code",
   "execution_count": null,
   "outputs": [],
   "source": [],
   "metadata": {
    "collapsed": false,
    "ExecuteTime": {
     "end_time": "2024-05-28T08:33:35.136781900Z",
     "start_time": "2024-05-28T08:33:35.033606100Z"
    }
   },
   "id": "180469dc0d6d353"
  },
  {
   "cell_type": "code",
   "execution_count": null,
   "outputs": [],
   "source": [],
   "metadata": {
    "collapsed": false,
    "ExecuteTime": {
     "end_time": "2024-05-28T08:33:35.136781900Z",
     "start_time": "2024-05-28T08:33:35.037706400Z"
    }
   },
   "id": "cdb5cd33b54ff877"
  },
  {
   "cell_type": "code",
   "execution_count": null,
   "outputs": [],
   "source": [],
   "metadata": {
    "collapsed": false,
    "ExecuteTime": {
     "end_time": "2024-05-28T08:33:35.155781200Z",
     "start_time": "2024-05-28T08:33:35.039715400Z"
    }
   },
   "id": "62c52fd5ba133079"
  },
  {
   "cell_type": "code",
   "execution_count": null,
   "outputs": [],
   "source": [],
   "metadata": {
    "collapsed": false
   },
   "id": "3a20ede034770e43"
  }
 ],
 "metadata": {
  "kernelspec": {
   "display_name": "Python 3",
   "language": "python",
   "name": "python3"
  },
  "language_info": {
   "codemirror_mode": {
    "name": "ipython",
    "version": 2
   },
   "file_extension": ".py",
   "mimetype": "text/x-python",
   "name": "python",
   "nbconvert_exporter": "python",
   "pygments_lexer": "ipython2",
   "version": "2.7.6"
  }
 },
 "nbformat": 4,
 "nbformat_minor": 5
}
